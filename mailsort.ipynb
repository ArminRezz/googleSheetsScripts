{
 "cells": [
  {
   "cell_type": "code",
   "execution_count": 2,
   "id": "2825bd2f-d1af-4a35-89f4-6caf4409c04e",
   "metadata": {},
   "outputs": [
    {
     "name": "stdout",
     "output_type": "stream",
     "text": [
      "Data written to new worksheets in the same Google Sheets file\n"
     ]
    }
   ],
   "source": [
    "import gspread\n",
    "from oauth2client.service_account import ServiceAccountCredentials\n",
    "import pandas as pd\n",
    "\n",
    "# Define the scope of access (Google Sheets API and Google Drive API)\n",
    "scope = ['https://spreadsheets.google.com/feeds', 'https://www.googleapis.com/auth/drive']\n",
    "\n",
    "# Authenticate using the service account credentials\n",
    "creds = ServiceAccountCredentials.from_json_keyfile_name('credentials.json', scope)\n",
    "client = gspread.authorize(creds)\n",
    "\n",
    "# Access the Google Sheet\n",
    "sheet = client.open('all forms')  # Replace with your Google Sheet name\n",
    "sheet_instance = sheet.get_worksheet(0)  # Replace with the index of your sheet if needed\n",
    "\n",
    "# Get all records from the sheet\n",
    "records_data = sheet_instance.get_all_records()\n",
    "\n",
    "# Convert to a pandas DataFrame\n",
    "records_df = pd.DataFrame.from_dict(records_data)\n",
    "\n",
    "# Define the keywords and their corresponding categories\n",
    "categories = {\n",
    "    'Glass': ['Glass table top', 'glass tabletop', 'Glass', 'Custom glass'],\n",
    "    'Gym': ['Gym mirrors', 'gym mirror', 'Gym'],\n",
    "    'Table': ['Table'],\n",
    "    'Shower': ['Shower'],\n",
    "    'Shelf': ['Shelf', 'Custom shelf'],\n",
    "    'Hinge': ['Hinge'],\n",
    "    'Handle': ['Handle'],\n",
    "    'Hook': ['Hook'],\n",
    "    'Custom': ['Custom', 'Custom mirror'],\n",
    "    'Return': ['Return'],\n",
    "    'Warranty': ['Warranty'],\n",
    "    'Broken': ['Broken'],\n",
    "    'Box': ['Box'],\n",
    "    'FedEx': ['FedEx'],\n",
    "    'Delivery': ['Delivery']\n",
    "}\n",
    "\n",
    "# Create a new column 'Category' that categorizes each row\n",
    "for index, row in records_df.iterrows():\n",
    "    for category, keywords in categories.items():\n",
    "        for keyword in keywords:\n",
    "            if keyword in str(row.values):\n",
    "                records_df.loc[index, 'Category'] = category\n",
    "                break\n",
    "\n",
    "# Create a new worksheet for each category in the same document\n",
    "for category in categories:\n",
    "    worksheet = sheet.add_worksheet(title=category, rows=100, cols=20)\n",
    "\n",
    "    # Filter the data by category\n",
    "    category_data = records_df[records_df['Category'] == category]\n",
    "\n",
    "    # Write the category data to the new worksheet\n",
    "    worksheet.update([category_data.columns.values.tolist()] + category_data.values.tolist())\n",
    "\n",
    "print(\"Data written to new worksheets in the same Google Sheets file\")"
   ]
  },
  {
   "cell_type": "code",
   "execution_count": null,
   "id": "e9ae2441-a93d-4a2b-97dc-5b2b2c5e83d3",
   "metadata": {},
   "outputs": [],
   "source": []
  }
 ],
 "metadata": {
  "kernelspec": {
   "display_name": "Python 3 (ipykernel)",
   "language": "python",
   "name": "python3"
  },
  "language_info": {
   "codemirror_mode": {
    "name": "ipython",
    "version": 3
   },
   "file_extension": ".py",
   "mimetype": "text/x-python",
   "name": "python",
   "nbconvert_exporter": "python",
   "pygments_lexer": "ipython3",
   "version": "3.11.8"
  }
 },
 "nbformat": 4,
 "nbformat_minor": 5
}
